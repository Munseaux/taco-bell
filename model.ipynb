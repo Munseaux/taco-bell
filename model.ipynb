{
 "cells": [
  {
   "cell_type": "code",
   "execution_count": 2,
   "source": [
    "import tensorflow as tf\r\n",
    "\r\n",
    "import numpy as np\r\n",
    "import pandas as pd\r\n",
    "from keras.models import Sequential\r\n",
    "from keras.layers import Dense\r\n",
    "from keras.layers import Dropout\r\n",
    "from keras.layers import LSTM\r\n",
    "from keras.layers import RNN\r\n",
    "from keras.utils import np_utils\r\n",
    "from keras.callbacks import ModelCheckpoint"
   ],
   "outputs": [
    {
     "output_type": "stream",
     "name": "stderr",
     "text": [
      "Using TensorFlow backend.\n"
     ]
    }
   ],
   "metadata": {}
  },
  {
   "cell_type": "code",
   "execution_count": 3,
   "source": [
    "corpus = open('tacobellmenu.csv', \"r\").read()\r\n",
    "corpus = corpus.replace('\\n', ' ')\r\n",
    "corpus"
   ],
   "outputs": [
    {
     "output_type": "execute_result",
     "data": {
      "text/plain": [
       "'1/2-pound beef 1/2-pound beef & potato burrito 1/2-pound beef combo burrito 1/2-pound cheesy bean & rice burrito 7 layer nachos bacon cheddar gordita crunch bacon club chalupa baja chicken taco baja taco bean burrito especial beef beefy crunch burrito beefy nachos beefy potato-rito bell beefer bellburger big beef burrito big beef taco big bell box meal big border taco big crunch taco big taste taco black jack taco burrito caesar dressing cantina double steak quesadilla cheesarito cheese cheese extreme quesadilla cheese quesadilla cheesy bean and rice burrito cheesy double beef burrito cheesy gordita crunch chicken chicken burrito chicken caesar grilled stuft burrito chicken enchilada grilled stuft burrito chicken fajitas chicken fiesta melt chicken flatbread sandwich chicken nachos bellgrande chicken quesadillas chipotle grilled stuft burrito chipotle sauce cinnamon twists club chalupa creamy jalapeÃ±o sauce crispy chicken quesadilla crunchwrap supreme crunchy red strips crunchy taco doritos locos tacos double chalupa double cheesy gordita crunch double decker taco double grande taco double stacked tacos double steak grande quesadilla dressed egg taco enchirito epic hot taco extreme cheese and beef quesadilla extreme nachos fiesta taco salad flatbread sandwiches fully loaded nachos gordita baja grande nacho box grande soft taco grilled stuft burrito grilled stuft nacho grilled taquitos \"grilled, marinated all-white meat chicken\" ground beef guacamole ice cream kalua pork grilled stuft burrito kalua pork quesadilla lava sauce lettuce meat meximelt monterey chicken quesadilla nacho crunch grilled stuft burrito nacho fries nacho fries bellgrande nachos nachos bellgrande nachos bellgrande with no green onions nachos supreme nachos supreme with no green onions nachos with cheese naked chicken chips potato potato crisp nachos power menu bowl quesadillas rice rolled chicken tacos romaine lettuce sausage & bacon grilled stuft burrito seafood salad shredded cheese shredded chicken soft taco sour cream southwest steak border bowl spicy chicken burrito spicy chicken soft taco sriracha burrito sriracha nachos sriracha quesarito sriracha taco steak burrito steak fajitas steak nachos bellgrande steak quesadilla steak rattlesnake fries steak reaper ranch fries steakhouse nachos taco taco bell grande taco salad taco salad express taco supreme three-cheese blend toasted cheddar chalupa tomato tortilla tortilla chips triple double crunchwrap triple melt nachos triple-layer nachos ultimate chalupa volcano burrito volcano nachos volcano quesarito volcano taco wild burrito wild tacos xxl steak crispy taco xxl steak nachos yucko taco zesty chicken border bowl zesty nachos supreme soft taco party pack supreme taco party pack soft taco party pack taco party pack taco & burrito cravings pack blue raspberry freeze midnight berry freeze loaded nacho taco bacon club chalupa combo nacho fries box chicken quesadilla combo 2 chicken chalupas supreme combo nachos bellgrande combo crunchwrap supreme combo burrito supreme combo 3 soft tacos combo 3 soft tacos supreme combo 3 crunchy tacos combo 3 crunchy tacos supreme combo 3 doritos locos tacos supreme combo 3 doritos locos tacos combo supreme variety taco party pack variety taco party pack fire sauce packet hot sauce packet mild sauce packet diablo sauce packet chalupa supreme crunchwrap supremeÂ® black bean chalupa nacho cheese doritos locos tacos supreme nacho cheese doritos locos tacos crunchy taco supreme soft taco supreme burrito supreme beefy 5-layer burrito bean burrito quesarito chicken quesadilla doubledilla  chips and nacho cheese sauce cinnabon delights 2 pack cheesy roll up beef burrito chicken chipotle melt cinnabon delights 12 pack black beans black beans and rice mountain dew baja blast freeze wild strawberry freeze pepsi can diet pepsi can mountain dew can sierra mist can power menu bowl - veggie black bean crunchwrap supreme black bean quesarito menu item creamy jalapeÃ£Â±o sauce crunchwrap supremeÃ¢Â® '"
      ]
     },
     "metadata": {},
     "execution_count": 3
    }
   ],
   "metadata": {}
  },
  {
   "cell_type": "code",
   "execution_count": 4,
   "source": [
    "characters = sorted(list(set(corpus)))\r\n",
    "\r\n",
    "n_to_char = {n:char for n, char in enumerate(characters)}\r\n",
    "char_to_n = {char:n for n, char in enumerate(characters)}\r\n",
    "\r\n",
    "vocab_size = len(characters)\r\n",
    "print(characters)"
   ],
   "outputs": [
    {
     "output_type": "stream",
     "name": "stdout",
     "text": [
      "[' ', '\"', '&', ',', '-', '/', '1', '2', '3', '5', '7', 'a', 'b', 'c', 'd', 'e', 'f', 'g', 'h', 'i', 'j', 'k', 'l', 'm', 'n', 'o', 'p', 'q', 'r', 's', 't', 'u', 'v', 'w', 'x', 'y', 'z', '¢', '£', '®', '±', 'Â', 'Ã']\n"
     ]
    }
   ],
   "metadata": {}
  },
  {
   "cell_type": "code",
   "execution_count": 5,
   "source": [
    "X = []   # extracted sequences\r\n",
    "Y = []   # the target: follow up character for each sequence in X\r\n",
    "length = len(corpus)\r\n",
    "seq_length = 100\r\n",
    "\r\n",
    "for i in range(0, length - seq_length, 1):\r\n",
    "    sequence = corpus[i:i + seq_length]\r\n",
    "    label = corpus[i + seq_length]\r\n",
    "    X.append([char_to_n[char] for char in sequence])\r\n",
    "    Y.append(char_to_n[label])\r\n",
    "    \r\n",
    "print('Number of extracted sequences:', len(X))"
   ],
   "outputs": [
    {
     "output_type": "stream",
     "name": "stdout",
     "text": [
      "Number of extracted sequences: 3912\n"
     ]
    }
   ],
   "metadata": {}
  },
  {
   "cell_type": "code",
   "execution_count": 6,
   "source": [
    "X_modified = np.reshape(X, (len(X), seq_length, 1))\r\n",
    "X_modified = X_modified / float(len(characters))\r\n",
    "Y_modified = np_utils.to_categorical(Y)"
   ],
   "outputs": [],
   "metadata": {}
  },
  {
   "cell_type": "code",
   "execution_count": 7,
   "source": [
    "model = Sequential()\r\n",
    "model.add(LSTM(700, input_shape=(X_modified.shape[1], X_modified.shape[2]), return_sequences=True))\r\n",
    "model.add(Dropout(0.2))\r\n",
    "model.add(LSTM(700, return_sequences=True))\r\n",
    "model.add(Dropout(0.2))\r\n",
    "model.add(LSTM(700))\r\n",
    "model.add(Dropout(0.2))\r\n",
    "model.add(Dense(Y_modified.shape[1], activation='softmax'))"
   ],
   "outputs": [],
   "metadata": {}
  },
  {
   "cell_type": "code",
   "execution_count": 19,
   "source": [
    "model.compile(loss='categorical_crossentropy', optimizer='adam')\r\n",
    "model.fit(X_modified, Y_modified, epochs=3, batch_size=128)"
   ],
   "outputs": [
    {
     "output_type": "stream",
     "name": "stdout",
     "text": [
      "Epoch 1/3\n",
      "3912/3912 [==============================] - 305s 78ms/step - loss: 3.0097\n",
      "Epoch 2/3\n",
      "3912/3912 [==============================] - 306s 78ms/step - loss: 2.9690\n",
      "Epoch 3/3\n",
      "3912/3912 [==============================] - 302s 77ms/step - loss: 2.9765\n"
     ]
    },
    {
     "output_type": "execute_result",
     "data": {
      "text/plain": [
       "<keras.callbacks.callbacks.History at 0x24780072978>"
      ]
     },
     "metadata": {},
     "execution_count": 19
    }
   ],
   "metadata": {}
  },
  {
   "cell_type": "code",
   "execution_count": 26,
   "source": [
    "start = 5   #random row from the X array\r\n",
    "string_mapped = list(X[start])\r\n",
    "full_string = [n_to_char[value] for value in string_mapped]\r\n",
    "\r\n",
    "# generating characters\r\n",
    "for i in range(1):\r\n",
    "    x = np.reshape(string_mapped,(1,len(string_mapped), 1))\r\n",
    "    x = x / float(len(characters))\r\n",
    "\r\n",
    "    pred_index = np.argmax(model.predict(x, verbose=0))\r\n",
    "    seq = [n_to_char[value] for value in string_mapped]\r\n",
    "    full_string.append(n_to_char[pred_index])\r\n",
    "\r\n",
    "    string_mapped.append(pred_index)\r\n",
    "    string_mapped = string_mapped[1:len(string_mapped)]\r\n",
    "\r\n",
    "\r\n"
   ],
   "outputs": [],
   "metadata": {}
  },
  {
   "cell_type": "code",
   "execution_count": 27,
   "source": [
    "string=\"\"\r\n",
    "for thing in full_string:\r\n",
    "    string += thing\r\n",
    "\r\n",
    "string"
   ],
   "outputs": [
    {
     "output_type": "execute_result",
     "data": {
      "text/plain": [
       "'ound beef 1/2-pound beef & potato burrito 1/2-pound beef combo burrito 1/2-pound cheesy bean & rice  '"
      ]
     },
     "metadata": {},
     "execution_count": 27
    }
   ],
   "metadata": {}
  },
  {
   "cell_type": "code",
   "execution_count": null,
   "source": [],
   "outputs": [],
   "metadata": {}
  }
 ],
 "metadata": {
  "orig_nbformat": 4,
  "language_info": {
   "name": "python",
   "version": "3.6.13",
   "mimetype": "text/x-python",
   "codemirror_mode": {
    "name": "ipython",
    "version": 3
   },
   "pygments_lexer": "ipython3",
   "nbconvert_exporter": "python",
   "file_extension": ".py"
  },
  "kernelspec": {
   "name": "python3",
   "display_name": "Python 3.6.13 64-bit ('PythonAdv': conda)"
  },
  "interpreter": {
   "hash": "19e604361af181d0efed1906379b6d4f58cb276063cefdc694e07c9c982c8c5e"
  }
 },
 "nbformat": 4,
 "nbformat_minor": 2
}